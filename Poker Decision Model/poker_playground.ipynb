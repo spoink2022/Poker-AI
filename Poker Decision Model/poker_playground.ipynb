{
 "cells": [
  {
   "cell_type": "code",
   "execution_count": 1,
   "metadata": {},
   "outputs": [],
   "source": [
    "from poker_dataset import PokerDataset\n",
    "from poker_simulation import PokerProbabilityCalculator\n",
    "from poker_baseline_model import get_bet_size\n",
    "from helper import ACTION_NAMES\n",
    "from tqdm import tqdm\n",
    "\n",
    "import torch"
   ]
  },
  {
   "cell_type": "code",
   "execution_count": 2,
   "metadata": {},
   "outputs": [
    {
     "name": "stderr",
     "output_type": "stream",
     "text": [
      "Parsing Games: 100%|██████████| 52154/52154 [00:16<00:00, 3139.71it/s]\n",
      "Processing Items: 100%|██████████| 50664/50664 [00:40<00:00, 1261.66it/s]\n"
     ]
    },
    {
     "name": "stdout",
     "output_type": "stream",
     "text": [
      "{'calls': 39175, 'raises': 39175, 'bets': 0, 'folds': 39175, 'checks': 39175, 'allin': 39175}\n"
     ]
    }
   ],
   "source": [
    "filepath = r'C:\\Users\\kctak\\Documents\\Code\\PokerAI\\APS360 Progress\\poker_data'\n",
    "poker_dataset = PokerDataset(filepath, \"IlxxxlI\", balance_data=True)\n",
    "print({action_name: len(indices) for action_name, indices in poker_dataset.output_indices.items()})"
   ]
  },
  {
   "cell_type": "code",
   "execution_count": 3,
   "metadata": {},
   "outputs": [
    {
     "name": "stderr",
     "output_type": "stream",
     "text": [
      "  0%|          | 0/195875 [00:00<?, ?it/s]"
     ]
    },
    {
     "name": "stderr",
     "output_type": "stream",
     "text": [
      "100%|██████████| 195875/195875 [00:00<00:00, 411162.03it/s]"
     ]
    },
    {
     "name": "stdout",
     "output_type": "stream",
     "text": [
      "{'input_tensor': {torch.Size([264])}, 'label_action_tensor': {torch.Size([11])}, 'label_bet_size_tensor': {torch.Size([1])}}\n"
     ]
    },
    {
     "name": "stderr",
     "output_type": "stream",
     "text": [
      "\n"
     ]
    }
   ],
   "source": [
    "size_count = {'input_tensor': [], 'label_action_tensor': [], 'label_bet_size_tensor': []}\n",
    "for i in tqdm(range(len(poker_dataset))):\n",
    "    input_tensor, label_action_tensor, label_bet_size_tensor, baseline_inputs, game_idx = poker_dataset[i]\n",
    "    size_count['input_tensor'].append(input_tensor.size())\n",
    "    size_count['label_action_tensor'].append(label_action_tensor.size())\n",
    "    size_count['label_bet_size_tensor'].append(label_bet_size_tensor.size())\n",
    "    \n",
    "print({key: set(value) for key, value in size_count.items()})"
   ]
  },
  {
   "cell_type": "code",
   "execution_count": 4,
   "metadata": {},
   "outputs": [
    {
     "data": {
      "text/plain": [
       "PREFLOP:\n",
       "ElvenEyes raises 2.0 \n",
       "Community Cards: []\n",
       "Pot Size: 1.5\n",
       "Round Call Amount: 0\n",
       "Player Round Bet Size: 0\n",
       "Player Stack: 111.3\n",
       "\n",
       "gust folds 0 \n",
       "Community Cards: []\n",
       "Pot Size: 3.5\n",
       "Round Call Amount: 2.0\n",
       "Player Round Bet Size: 0\n",
       "Player Stack: 47.0\n",
       "\n",
       "VegetablesArentYummy folds 0 \n",
       "Community Cards: []\n",
       "Pot Size: 3.5\n",
       "Round Call Amount: 2.0\n",
       "Player Round Bet Size: 0\n",
       "Player Stack: 273.59\n",
       "\n",
       "StephCurry folds 0 \n",
       "Community Cards: []\n",
       "Pot Size: 3.5\n",
       "Round Call Amount: 2.0\n",
       "Player Round Bet Size: 0\n",
       "Player Stack: 105.78\n",
       "\n",
       "PANDAisEVIL folds 0 \n",
       "Community Cards: []\n",
       "Pot Size: 3.5\n",
       "Round Call Amount: 2.0\n",
       "Player Round Bet Size: 0\n",
       "Player Stack: 101.0\n",
       "\n",
       "AironVega folds 0 \n",
       "Community Cards: []\n",
       "Pot Size: 3.5\n",
       "Round Call Amount: 2.0\n",
       "Player Round Bet Size: 0\n",
       "Player Stack: 101.7\n",
       "\n",
       "IlxxxlI folds 0 \n",
       "Community Cards: []\n",
       "Pot Size: 3.5\n",
       "Round Call Amount: 2.0\n",
       "Player Round Bet Size: 0\n",
       "Player Stack: 43.0\n",
       "\n",
       "pineapplesand folds 0 \n",
       "Community Cards: []\n",
       "Pot Size: 3.5\n",
       "Round Call Amount: 2.0\n",
       "Player Round Bet Size: 0.5\n",
       "Player Stack: 39.5\n",
       "\n",
       "dankmann folds 0 \n",
       "Community Cards: []\n",
       "Pot Size: 3.5\n",
       "Round Call Amount: 2.0\n",
       "Player Round Bet Size: 1.0\n",
       "Player Stack: 209.52\n",
       "\n"
      ]
     },
     "execution_count": 4,
     "metadata": {},
     "output_type": "execute_result"
    }
   ],
   "source": [
    "poker_dataset.games[9].rounds[0]"
   ]
  },
  {
   "cell_type": "code",
   "execution_count": 5,
   "metadata": {},
   "outputs": [
    {
     "data": {
      "text/plain": [
       "(tensor([ 0.4444,  0.0000,  0.0000,  0.0000,  0.0000,  0.0000,  0.0000,  0.0000,\n",
       "          0.0000,  0.0000,  0.0000,  0.0000,  0.0000,  0.0000,  0.0000,  0.0000,\n",
       "          0.0000,  0.0000,  0.0000,  0.0000,  0.0000,  0.0000,  0.0000,  0.0000,\n",
       "          0.0000,  0.0000,  0.0000,  0.0000,  0.0000,  0.0000,  0.0000,  0.0000,\n",
       "          0.0000,  0.0000,  0.0000,  0.0000,  0.0000,  0.0000,  0.0000,  0.0000,\n",
       "          0.0000,  0.0000,  0.0000,  0.0000,  0.0000,  1.0000,  0.0000,  0.0000,\n",
       "          0.0000,  0.0000,  0.0000,  0.0000,  0.0000,  0.0000,  0.0000,  0.0000,\n",
       "          0.0000,  0.0000,  0.0000,  0.0000,  0.0000,  0.0000,  0.0000,  0.0000,\n",
       "          0.0000,  0.0000,  0.0000,  0.0000,  0.0000,  0.0000,  0.0000,  1.0000,\n",
       "          0.0000,  0.0000,  0.0000,  0.0000,  0.0000,  0.0000,  0.0000,  0.0000,\n",
       "          0.0000,  0.0000,  0.0000,  0.0000,  0.0000,  0.0000,  0.0000,  0.0000,\n",
       "          0.0000,  0.0000,  0.0000,  0.0000,  0.0000,  0.0000,  0.0000,  0.0000,\n",
       "          0.0000,  0.0000,  0.0000,  0.0000,  0.0000,  0.0000,  0.0000,  0.0000,\n",
       "          0.0000, -0.8756, -0.2108, -0.3074, -0.4313, -0.2254,  0.6667,  0.0000,\n",
       "          0.0000,  0.0000,  0.0000,  0.0000,  0.0000,  1.0000,  0.0000,  0.0000,\n",
       "          0.0000,  0.0000,  0.3135, -0.3435,  0.0269, -0.0385,  0.3135,  0.1034,\n",
       "          0.0000,  0.0000,  0.0000,  0.0000,  0.0000,  0.0000,  1.0000,  0.0000,\n",
       "          0.0000,  0.0000,  0.0000,  0.2296, -0.3435,  0.0863, -0.0385,  0.2296,\n",
       "          0.1034,  0.0000,  0.0000,  0.0000,  0.0000,  1.0000,  0.0000,  0.0000,\n",
       "          0.0000,  0.0000,  0.0000,  0.0000, -0.1980, -0.1452, -0.0920, -0.2402,\n",
       "          0.2463, -0.1158,  0.0000,  0.0000,  0.0000,  0.0000,  0.0000,  0.0000,\n",
       "          1.0000,  0.0000,  0.0000,  0.0000,  0.0000,  0.0475, -0.3435, -0.2108,\n",
       "         -0.3074,  0.0475, -0.2254,  0.0000,  0.0000,  0.0000,  0.0000,  0.0000,\n",
       "          0.0000,  1.0000,  0.0000,  0.0000,  0.0000,  0.0000,  0.6571, -0.3435,\n",
       "         -0.2108, -0.3074,  0.6571, -0.2254,  0.0000,  0.0000,  0.0000,  0.0000,\n",
       "          0.0000,  0.0000,  0.0000,  0.0000,  0.0000,  0.0000,  0.0000,  0.0000,\n",
       "          0.0000,  0.0000,  0.0000,  0.0000,  0.0000,  0.0000,  0.0000,  0.0000,\n",
       "          0.0000,  0.0000,  0.0000,  0.0000,  0.0000,  0.0000,  0.0000,  0.0000,\n",
       "          0.0000,  0.0000,  0.0000,  0.0000,  0.0000,  0.0000,  0.0000,  0.0000,\n",
       "          0.0000,  0.0000,  0.0000,  0.0000,  0.0000,  0.0000,  0.0000,  0.0000,\n",
       "          0.0000,  0.0000,  0.0000,  0.0000,  0.0000,  0.0000,  0.0000,  0.0000,\n",
       "          0.0000,  0.0000,  0.0000,  0.0000,  0.0000,  0.0000,  0.0000,  0.0000,\n",
       "          0.0000,  0.0000,  0.0000,  0.0000,  0.0000,  0.0000,  0.0000,  0.0000]),\n",
       " tensor([0., 0., 1., 0., 0., 0., 0., 0., 0., 0., 0.]),\n",
       " tensor([-0.2774]),\n",
       " {'call_size': 0,\n",
       "  'pot_size': 1.5,\n",
       "  'stack_size': 40.0,\n",
       "  'min_raise': 0,\n",
       "  'hole_cards': ['7c', '7h'],\n",
       "  'community_cards': [],\n",
       "  'num_players': 6},\n",
       " 172)"
      ]
     },
     "execution_count": 5,
     "metadata": {},
     "output_type": "execute_result"
    }
   ],
   "source": [
    "poker_dataset[9]"
   ]
  },
  {
   "cell_type": "code",
   "execution_count": 6,
   "metadata": {},
   "outputs": [
    {
     "name": "stderr",
     "output_type": "stream",
     "text": [
      "100%|██████████| 5000/5000 [09:28<00:00,  8.79it/s]"
     ]
    },
    {
     "name": "stdout",
     "output_type": "stream",
     "text": [
      "label_count: {'small': 0, 'big': 0, 'calls': 960, 'caps': 0, 'raises': 962, 'bets': 0, 'folds': 1032, 'posts': 0, 'checks': 1053, 'straddle': 0, 'allin': 993}\n",
      "bot_count: {'small': 0, 'big': 0, 'calls': 2, 'caps': 0, 'raises': 0, 'bets': 0, 'folds': 4998, 'posts': 0, 'checks': 0, 'straddle': 0, 'allin': 0}\n",
      "corr_count: 1034\n"
     ]
    },
    {
     "name": "stderr",
     "output_type": "stream",
     "text": [
      "\n"
     ]
    }
   ],
   "source": [
    "poker_calc = PokerProbabilityCalculator()\n",
    "correct_count = 0\n",
    "fold_count = 0\n",
    "random_indices = torch.randperm(len(poker_dataset))[:5000]\n",
    "\n",
    "label_count = {action_name: 0 for action_name in ACTION_NAMES}\n",
    "bot_count = {action_name: 0 for action_name in ACTION_NAMES}\n",
    "\n",
    "corr_count = 0\n",
    "for i in tqdm(random_indices):\n",
    "    input_tensor, label_action_tensor, label_bet_size_tensor, baseline_inputs, game_idx = poker_dataset[i]\n",
    "    call_size = baseline_inputs['call_size']\n",
    "    pot_size = baseline_inputs['pot_size']\n",
    "    stack_size = baseline_inputs['stack_size']\n",
    "    min_raise = baseline_inputs['min_raise']\n",
    "    hole_cards = baseline_inputs['hole_cards']\n",
    "    community_cards = baseline_inputs['community_cards']\n",
    "    num_players = baseline_inputs['num_players']\n",
    "    \n",
    "    poker_calc.set(hole_cards, community_cards, num_players, num_simulations = 1000)\n",
    "    win_rate, lose_rate, tie_rate, avg_tied_players = poker_calc.poker_probability_calculator()\n",
    "    \n",
    "    action_name, bet_size = get_bet_size(win_rate, lose_rate, tie_rate, avg_tied_players, pot_size, call_size, stack_size, min_raise, tight_factor=0.5)\n",
    "    \n",
    "    # label_action_tensor is a one hot tensor\n",
    "    label_action_name = ACTION_NAMES[label_action_tensor.argmax().item()]\n",
    "    #print(action_name, bet_size, \"\\t\", label_action_name)\n",
    "    label_count[label_action_name] += 1\n",
    "    bot_count[action_name] += 1\n",
    "    \n",
    "    if action_name == label_action_name:\n",
    "        corr_count += 1\n",
    "\n",
    "print('label_count:', label_count)\n",
    "print('bot_count:', bot_count)\n",
    "print('corr_count:', corr_count)"
   ]
  },
  {
   "cell_type": "code",
   "execution_count": 7,
   "metadata": {},
   "outputs": [
    {
     "name": "stderr",
     "output_type": "stream",
     "text": [
      "100%|██████████| 5000/5000 [09:13<00:00,  9.04it/s]"
     ]
    },
    {
     "name": "stdout",
     "output_type": "stream",
     "text": [
      "label_count: {'small': 0, 'big': 0, 'calls': 960, 'caps': 0, 'raises': 962, 'bets': 0, 'folds': 1032, 'posts': 0, 'checks': 1053, 'straddle': 0, 'allin': 993}\n",
      "bot_count: {'small': 0, 'big': 0, 'calls': 73, 'caps': 0, 'raises': 0, 'bets': 1, 'folds': 4925, 'posts': 0, 'checks': 0, 'straddle': 0, 'allin': 1}\n",
      "corr_count: 1074\n"
     ]
    },
    {
     "name": "stderr",
     "output_type": "stream",
     "text": [
      "\n"
     ]
    }
   ],
   "source": [
    "poker_calc = PokerProbabilityCalculator()\n",
    "correct_count = 0\n",
    "fold_count = 0\n",
    "\n",
    "label_count = {action_name: 0 for action_name in ACTION_NAMES}\n",
    "bot_count = {action_name: 0 for action_name in ACTION_NAMES}\n",
    "\n",
    "corr_count = 0\n",
    "for i in tqdm(random_indices):\n",
    "    input_tensor, label_action_tensor, label_bet_size_tensor, baseline_inputs, game_idx = poker_dataset[i]\n",
    "    call_size = baseline_inputs['call_size']\n",
    "    pot_size = baseline_inputs['pot_size']\n",
    "    stack_size = baseline_inputs['stack_size']\n",
    "    min_raise = baseline_inputs['min_raise']\n",
    "    hole_cards = baseline_inputs['hole_cards']\n",
    "    community_cards = baseline_inputs['community_cards']\n",
    "    num_players = baseline_inputs['num_players']\n",
    "    \n",
    "    poker_calc.set(hole_cards, community_cards, num_players, num_simulations = 1000)\n",
    "    win_rate, lose_rate, tie_rate, avg_tied_players = poker_calc.poker_probability_calculator()\n",
    "    \n",
    "    action_name, bet_size = get_bet_size(win_rate, lose_rate, tie_rate, avg_tied_players, pot_size, call_size, stack_size, min_raise, tight_factor=0.2)\n",
    "    \n",
    "    # label_action_tensor is a one hot tensor\n",
    "    label_action_name = ACTION_NAMES[label_action_tensor.argmax().item()]\n",
    "    #print(action_name, bet_size, \"\\t\", label_action_name)\n",
    "    label_count[label_action_name] += 1\n",
    "    bot_count[action_name] += 1\n",
    "    \n",
    "    if action_name == label_action_name:\n",
    "        corr_count += 1\n",
    "\n",
    "print('label_count:', label_count)\n",
    "print('bot_count:', bot_count)\n",
    "print('corr_count:', corr_count)"
   ]
  },
  {
   "cell_type": "code",
   "execution_count": 8,
   "metadata": {},
   "outputs": [
    {
     "name": "stderr",
     "output_type": "stream",
     "text": [
      "100%|██████████| 5000/5000 [09:14<00:00,  9.02it/s]"
     ]
    },
    {
     "name": "stdout",
     "output_type": "stream",
     "text": [
      "label_count: {'small': 0, 'big': 0, 'calls': 960, 'caps': 0, 'raises': 962, 'bets': 0, 'folds': 1032, 'posts': 0, 'checks': 1053, 'straddle': 0, 'allin': 993}\n",
      "bot_count: {'small': 0, 'big': 0, 'calls': 240, 'caps': 0, 'raises': 0, 'bets': 4, 'folds': 4746, 'posts': 0, 'checks': 0, 'straddle': 0, 'allin': 10}\n",
      "corr_count: 1165\n"
     ]
    },
    {
     "name": "stderr",
     "output_type": "stream",
     "text": [
      "\n"
     ]
    }
   ],
   "source": [
    "poker_calc = PokerProbabilityCalculator()\n",
    "correct_count = 0\n",
    "fold_count = 0\n",
    "\n",
    "label_count = {action_name: 0 for action_name in ACTION_NAMES}\n",
    "bot_count = {action_name: 0 for action_name in ACTION_NAMES}\n",
    "\n",
    "corr_count = 0\n",
    "for i in tqdm(random_indices):\n",
    "    input_tensor, label_action_tensor, label_bet_size_tensor, baseline_inputs, game_idx = poker_dataset[i]\n",
    "    call_size = baseline_inputs['call_size']\n",
    "    pot_size = baseline_inputs['pot_size']\n",
    "    stack_size = baseline_inputs['stack_size']\n",
    "    min_raise = baseline_inputs['min_raise']\n",
    "    hole_cards = baseline_inputs['hole_cards']\n",
    "    community_cards = baseline_inputs['community_cards']\n",
    "    num_players = baseline_inputs['num_players']\n",
    "    \n",
    "    poker_calc.set(hole_cards, community_cards, num_players, num_simulations = 1000)\n",
    "    win_rate, lose_rate, tie_rate, avg_tied_players = poker_calc.poker_probability_calculator()\n",
    "    \n",
    "    action_name, bet_size = get_bet_size(win_rate, lose_rate, tie_rate, avg_tied_players, pot_size, call_size, stack_size, min_raise, tight_factor=0.1)\n",
    "    \n",
    "    # label_action_tensor is a one hot tensor\n",
    "    label_action_name = ACTION_NAMES[label_action_tensor.argmax().item()]\n",
    "    #print(action_name, bet_size, \"\\t\", label_action_name)\n",
    "    label_count[label_action_name] += 1\n",
    "    bot_count[action_name] += 1\n",
    "    \n",
    "    if action_name == label_action_name:\n",
    "        corr_count += 1\n",
    "\n",
    "print('label_count:', label_count)\n",
    "print('bot_count:', bot_count)\n",
    "print('corr_count:', corr_count)"
   ]
  },
  {
   "cell_type": "code",
   "execution_count": 9,
   "metadata": {},
   "outputs": [
    {
     "name": "stderr",
     "output_type": "stream",
     "text": [
      "100%|██████████| 5000/5000 [09:37<00:00,  8.66it/s]"
     ]
    },
    {
     "name": "stdout",
     "output_type": "stream",
     "text": [
      "label_count: {'small': 0, 'big': 0, 'calls': 960, 'caps': 0, 'raises': 962, 'bets': 0, 'folds': 1032, 'posts': 0, 'checks': 1053, 'straddle': 0, 'allin': 993}\n",
      "bot_count: {'small': 0, 'big': 0, 'calls': 751, 'caps': 0, 'raises': 0, 'bets': 0, 'folds': 3964, 'posts': 0, 'checks': 0, 'straddle': 0, 'allin': 285}\n",
      "corr_count: 1433\n"
     ]
    },
    {
     "name": "stderr",
     "output_type": "stream",
     "text": [
      "\n"
     ]
    }
   ],
   "source": [
    "poker_calc = PokerProbabilityCalculator()\n",
    "correct_count = 0\n",
    "fold_count = 0\n",
    "\n",
    "label_count = {action_name: 0 for action_name in ACTION_NAMES}\n",
    "bot_count = {action_name: 0 for action_name in ACTION_NAMES}\n",
    "\n",
    "corr_count = 0\n",
    "for i in tqdm(random_indices):\n",
    "    input_tensor, label_action_tensor, label_bet_size_tensor, baseline_inputs, game_idx = poker_dataset[i]\n",
    "    call_size = baseline_inputs['call_size']\n",
    "    pot_size = baseline_inputs['pot_size']\n",
    "    stack_size = baseline_inputs['stack_size']\n",
    "    min_raise = baseline_inputs['min_raise']\n",
    "    hole_cards = baseline_inputs['hole_cards']\n",
    "    community_cards = baseline_inputs['community_cards']\n",
    "    num_players = baseline_inputs['num_players']\n",
    "    \n",
    "    poker_calc.set(hole_cards, community_cards, num_players, num_simulations = 1000)\n",
    "    win_rate, lose_rate, tie_rate, avg_tied_players = poker_calc.poker_probability_calculator()\n",
    "    \n",
    "    action_name, bet_size = get_bet_size(win_rate, lose_rate, tie_rate, avg_tied_players, pot_size, call_size, stack_size, min_raise, tight_factor=0)\n",
    "    \n",
    "    # label_action_tensor is a one hot tensor\n",
    "    label_action_name = ACTION_NAMES[label_action_tensor.argmax().item()]\n",
    "    #print(action_name, bet_size, \"\\t\", label_action_name)\n",
    "    label_count[label_action_name] += 1\n",
    "    bot_count[action_name] += 1\n",
    "    \n",
    "    if action_name == label_action_name:\n",
    "        corr_count += 1\n",
    "\n",
    "print('label_count:', label_count)\n",
    "print('bot_count:', bot_count)\n",
    "print('corr_count:', corr_count)"
   ]
  },
  {
   "cell_type": "code",
   "execution_count": 10,
   "metadata": {},
   "outputs": [
    {
     "name": "stderr",
     "output_type": "stream",
     "text": [
      "100%|██████████| 195875/195875 [00:01<00:00, 153348.51it/s]"
     ]
    },
    {
     "name": "stdout",
     "output_type": "stream",
     "text": [
      "39175\n",
      "0\n",
      "195875\n"
     ]
    },
    {
     "name": "stderr",
     "output_type": "stream",
     "text": [
      "\n"
     ]
    }
   ],
   "source": [
    "count = 0\n",
    "for i in tqdm(range(len(poker_dataset))):\n",
    "    label_action_name = ACTION_NAMES[poker_dataset[i][1].argmax().item()]\n",
    "    if label_action_name == 'folds':\n",
    "        count += 1\n",
    "        \n",
    "print(count)\n",
    "print(fold_count)\n",
    "print(len(poker_dataset))"
   ]
  }
 ],
 "metadata": {
  "kernelspec": {
   "display_name": "All_Use",
   "language": "python",
   "name": "python3"
  },
  "language_info": {
   "codemirror_mode": {
    "name": "ipython",
    "version": 3
   },
   "file_extension": ".py",
   "mimetype": "text/x-python",
   "name": "python",
   "nbconvert_exporter": "python",
   "pygments_lexer": "ipython3",
   "version": "3.10.6"
  }
 },
 "nbformat": 4,
 "nbformat_minor": 2
}
