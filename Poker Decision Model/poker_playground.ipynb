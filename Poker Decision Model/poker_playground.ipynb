{
 "cells": [
  {
   "cell_type": "code",
   "execution_count": 1,
   "metadata": {},
   "outputs": [],
   "source": [
    "from poker_dataset import PokerDataset\n",
    "from poker_simulation import PokerProbabilityCalculator\n",
    "from poker_baseline_model import get_bet_size\n",
    "from helper import ACTION_NAMES\n",
    "from tqdm import tqdm\n",
    "\n",
    "import torch"
   ]
  },
  {
   "cell_type": "code",
   "execution_count": 2,
   "metadata": {},
   "outputs": [
    {
     "name": "stderr",
     "output_type": "stream",
     "text": [
      "Parsing Games: 100%|██████████| 52154/52154 [00:14<00:00, 3652.91it/s]\n",
      "Processing Items: 100%|██████████| 50664/50664 [00:37<00:00, 1353.13it/s]"
     ]
    },
    {
     "name": "stdout",
     "output_type": "stream",
     "text": [
      "{'calls': 39175, 'raises': 39175, 'bets': 0, 'folds': 39175, 'checks': 39175, 'allin': 39175}\n"
     ]
    },
    {
     "name": "stderr",
     "output_type": "stream",
     "text": [
      "\n"
     ]
    }
   ],
   "source": [
    "filepath = r'C:\\Users\\kctak\\Documents\\Code\\PokerAI\\APS360 Progress\\poker_data'\n",
    "poker_dataset = PokerDataset(filepath, \"IlxxxlI\", balance_data=True)\n",
    "print({action_name: len(indices) for action_name, indices in poker_dataset.output_indices.items()})"
   ]
  },
  {
   "cell_type": "code",
   "execution_count": 3,
   "metadata": {},
   "outputs": [
    {
     "name": "stderr",
     "output_type": "stream",
     "text": [
      "  0%|          | 0/195875 [00:00<?, ?it/s]"
     ]
    },
    {
     "name": "stderr",
     "output_type": "stream",
     "text": [
      "100%|██████████| 195875/195875 [00:00<00:00, 559258.24it/s]"
     ]
    },
    {
     "name": "stdout",
     "output_type": "stream",
     "text": [
      "{'input_tensor': {torch.Size([264])}, 'label_action_tensor': {torch.Size([11])}, 'label_bet_size_tensor': {torch.Size([1])}}\n"
     ]
    },
    {
     "name": "stderr",
     "output_type": "stream",
     "text": [
      "\n"
     ]
    }
   ],
   "source": [
    "size_count = {'input_tensor': [], 'label_action_tensor': [], 'label_bet_size_tensor': []}\n",
    "for i in tqdm(range(len(poker_dataset))):\n",
    "    input_tensor, label_action_tensor, label_bet_size_tensor, baseline_inputs = poker_dataset[i]\n",
    "    size_count['input_tensor'].append(input_tensor.size())\n",
    "    size_count['label_action_tensor'].append(label_action_tensor.size())\n",
    "    size_count['label_bet_size_tensor'].append(label_bet_size_tensor.size())\n",
    "    \n",
    "print({key: set(value) for key, value in size_count.items()})"
   ]
  },
  {
   "cell_type": "code",
   "execution_count": 4,
   "metadata": {},
   "outputs": [
    {
     "data": {
      "text/plain": [
       "PREFLOP:\n",
       "ElvenEyes raises 2.0 \n",
       "Community Cards: []\n",
       "Pot Size: 1.5\n",
       "Round Call Amount: 0\n",
       "Player Round Bet Size: 0\n",
       "Player Stack: 111.3\n",
       "\n",
       "gust folds 0 \n",
       "Community Cards: []\n",
       "Pot Size: 3.5\n",
       "Round Call Amount: 2.0\n",
       "Player Round Bet Size: 0\n",
       "Player Stack: 47.0\n",
       "\n",
       "VegetablesArentYummy folds 0 \n",
       "Community Cards: []\n",
       "Pot Size: 3.5\n",
       "Round Call Amount: 2.0\n",
       "Player Round Bet Size: 0\n",
       "Player Stack: 273.59\n",
       "\n",
       "StephCurry folds 0 \n",
       "Community Cards: []\n",
       "Pot Size: 3.5\n",
       "Round Call Amount: 2.0\n",
       "Player Round Bet Size: 0\n",
       "Player Stack: 105.78\n",
       "\n",
       "PANDAisEVIL folds 0 \n",
       "Community Cards: []\n",
       "Pot Size: 3.5\n",
       "Round Call Amount: 2.0\n",
       "Player Round Bet Size: 0\n",
       "Player Stack: 101.0\n",
       "\n",
       "AironVega folds 0 \n",
       "Community Cards: []\n",
       "Pot Size: 3.5\n",
       "Round Call Amount: 2.0\n",
       "Player Round Bet Size: 0\n",
       "Player Stack: 101.7\n",
       "\n",
       "IlxxxlI folds 0 \n",
       "Community Cards: []\n",
       "Pot Size: 3.5\n",
       "Round Call Amount: 2.0\n",
       "Player Round Bet Size: 0\n",
       "Player Stack: 43.0\n",
       "\n",
       "pineapplesand folds 0 \n",
       "Community Cards: []\n",
       "Pot Size: 3.5\n",
       "Round Call Amount: 2.0\n",
       "Player Round Bet Size: 0.5\n",
       "Player Stack: 39.5\n",
       "\n",
       "dankmann folds 0 \n",
       "Community Cards: []\n",
       "Pot Size: 3.5\n",
       "Round Call Amount: 2.0\n",
       "Player Round Bet Size: 1.0\n",
       "Player Stack: 209.52\n",
       "\n"
      ]
     },
     "execution_count": 4,
     "metadata": {},
     "output_type": "execute_result"
    }
   ],
   "source": [
    "poker_dataset.games[9].rounds[0]"
   ]
  },
  {
   "cell_type": "code",
   "execution_count": 5,
   "metadata": {},
   "outputs": [
    {
     "data": {
      "text/plain": [
       "(tensor([ 0.4444,  0.0000,  0.0000,  0.0000,  0.0000,  0.0000,  0.0000,  0.0000,\n",
       "          0.0000,  0.0000,  0.0000,  0.0000,  0.0000,  0.0000,  0.0000,  0.0000,\n",
       "          0.0000,  0.0000,  0.0000,  0.0000,  0.0000,  0.0000,  0.0000,  0.0000,\n",
       "          0.0000,  0.0000,  0.0000,  0.0000,  0.0000,  0.0000,  0.0000,  0.0000,\n",
       "          0.0000,  0.0000,  0.0000,  0.0000,  0.0000,  0.0000,  0.0000,  0.0000,\n",
       "          0.0000,  0.0000,  0.0000,  0.0000,  0.0000,  1.0000,  0.0000,  0.0000,\n",
       "          0.0000,  0.0000,  0.0000,  0.0000,  0.0000,  0.0000,  0.0000,  0.0000,\n",
       "          0.0000,  0.0000,  0.0000,  0.0000,  0.0000,  0.0000,  0.0000,  0.0000,\n",
       "          0.0000,  0.0000,  0.0000,  0.0000,  0.0000,  0.0000,  0.0000,  1.0000,\n",
       "          0.0000,  0.0000,  0.0000,  0.0000,  0.0000,  0.0000,  0.0000,  0.0000,\n",
       "          0.0000,  0.0000,  0.0000,  0.0000,  0.0000,  0.0000,  0.0000,  0.0000,\n",
       "          0.0000,  0.0000,  0.0000,  0.0000,  0.0000,  0.0000,  0.0000,  0.0000,\n",
       "          0.0000,  0.0000,  0.0000,  0.0000,  0.0000,  0.0000,  0.0000,  0.0000,\n",
       "          0.0000, -0.8756, -0.2108, -0.3074, -0.4313, -0.2254,  0.6667,  0.0000,\n",
       "          0.0000,  0.0000,  0.0000,  0.0000,  0.0000,  1.0000,  0.0000,  0.0000,\n",
       "          0.0000,  0.0000,  0.3135, -0.3435,  0.0269, -0.0385,  0.3135,  0.1034,\n",
       "          0.0000,  0.0000,  0.0000,  0.0000,  0.0000,  0.0000,  1.0000,  0.0000,\n",
       "          0.0000,  0.0000,  0.0000,  0.2296, -0.3435,  0.0863, -0.0385,  0.2296,\n",
       "          0.1034,  0.0000,  0.0000,  0.0000,  0.0000,  1.0000,  0.0000,  0.0000,\n",
       "          0.0000,  0.0000,  0.0000,  0.0000, -0.1980, -0.1452, -0.0920, -0.2402,\n",
       "          0.2463, -0.1158,  0.0000,  0.0000,  0.0000,  0.0000,  0.0000,  0.0000,\n",
       "          1.0000,  0.0000,  0.0000,  0.0000,  0.0000,  0.0475, -0.3435, -0.2108,\n",
       "         -0.3074,  0.0475, -0.2254,  0.0000,  0.0000,  0.0000,  0.0000,  0.0000,\n",
       "          0.0000,  1.0000,  0.0000,  0.0000,  0.0000,  0.0000,  0.6571, -0.3435,\n",
       "         -0.2108, -0.3074,  0.6571, -0.2254,  0.0000,  0.0000,  0.0000,  0.0000,\n",
       "          0.0000,  0.0000,  0.0000,  0.0000,  0.0000,  0.0000,  0.0000,  0.0000,\n",
       "          0.0000,  0.0000,  0.0000,  0.0000,  0.0000,  0.0000,  0.0000,  0.0000,\n",
       "          0.0000,  0.0000,  0.0000,  0.0000,  0.0000,  0.0000,  0.0000,  0.0000,\n",
       "          0.0000,  0.0000,  0.0000,  0.0000,  0.0000,  0.0000,  0.0000,  0.0000,\n",
       "          0.0000,  0.0000,  0.0000,  0.0000,  0.0000,  0.0000,  0.0000,  0.0000,\n",
       "          0.0000,  0.0000,  0.0000,  0.0000,  0.0000,  0.0000,  0.0000,  0.0000,\n",
       "          0.0000,  0.0000,  0.0000,  0.0000,  0.0000,  0.0000,  0.0000,  0.0000,\n",
       "          0.0000,  0.0000,  0.0000,  0.0000,  0.0000,  0.0000,  0.0000,  0.0000]),\n",
       " tensor([0., 0., 1., 0., 0., 0., 0., 0., 0., 0., 0.]),\n",
       " tensor([-0.2774]),\n",
       " {'call_size': 0,\n",
       "  'pot_size': 1.5,\n",
       "  'stack_size': 40.0,\n",
       "  'min_raise': 0,\n",
       "  'hole_cards': ['7c', '7h'],\n",
       "  'community_cards': [],\n",
       "  'num_players': 6})"
      ]
     },
     "execution_count": 5,
     "metadata": {},
     "output_type": "execute_result"
    }
   ],
   "source": [
    "poker_dataset[9]"
   ]
  },
  {
   "cell_type": "code",
   "execution_count": 6,
   "metadata": {},
   "outputs": [
    {
     "ename": "ValueError",
     "evalue": "Invalid hole cards and community cards",
     "output_type": "error",
     "traceback": [
      "\u001b[1;31m---------------------------------------------------------------------------\u001b[0m",
      "\u001b[1;31mValueError\u001b[0m                                Traceback (most recent call last)",
      "Cell \u001b[1;32mIn[6], line 1\u001b[0m\n\u001b[1;32m----> 1\u001b[0m poker_calc \u001b[38;5;241m=\u001b[39m \u001b[43mPokerProbabilityCalculator\u001b[49m\u001b[43m(\u001b[49m\u001b[43m)\u001b[49m\n\u001b[0;32m      2\u001b[0m correct_count \u001b[38;5;241m=\u001b[39m \u001b[38;5;241m0\u001b[39m\n\u001b[0;32m      3\u001b[0m fold_count \u001b[38;5;241m=\u001b[39m \u001b[38;5;241m0\u001b[39m\n",
      "File \u001b[1;32mc:\\Users\\kctak\\Documents\\Code\\PokerAI\\APS360 Project\\Poker-AI\\Poker Decision Model\\poker_simulation.py:168\u001b[0m, in \u001b[0;36mPokerProbabilityCalculator.__init__\u001b[1;34m(self, hole_cards, community_cards, num_players, num_simulations)\u001b[0m\n\u001b[0;32m    166\u001b[0m \u001b[38;5;28;01mdef\u001b[39;00m \u001b[38;5;21m__init__\u001b[39m(\u001b[38;5;28mself\u001b[39m, hole_cards \u001b[38;5;241m=\u001b[39m [], community_cards \u001b[38;5;241m=\u001b[39m [], num_players \u001b[38;5;241m=\u001b[39m \u001b[38;5;28;01mNone\u001b[39;00m, num_simulations \u001b[38;5;241m=\u001b[39m \u001b[38;5;241m1000\u001b[39m):\n\u001b[0;32m    167\u001b[0m     \u001b[38;5;28;01mif\u001b[39;00m hole_cards \u001b[38;5;241m==\u001b[39m []:\n\u001b[1;32m--> 168\u001b[0m         \u001b[38;5;28;01mraise\u001b[39;00m \u001b[38;5;167;01mValueError\u001b[39;00m(\u001b[38;5;124m\"\u001b[39m\u001b[38;5;124mInvalid hole cards and community cards\u001b[39m\u001b[38;5;124m\"\u001b[39m)\n\u001b[0;32m    170\u001b[0m     \u001b[38;5;28mself\u001b[39m\u001b[38;5;241m.\u001b[39mhole_cards \u001b[38;5;241m=\u001b[39m hole_cards\n\u001b[0;32m    171\u001b[0m     \u001b[38;5;28mself\u001b[39m\u001b[38;5;241m.\u001b[39mcommunity_cards \u001b[38;5;241m=\u001b[39m community_cards\n",
      "\u001b[1;31mValueError\u001b[0m: Invalid hole cards and community cards"
     ]
    }
   ],
   "source": [
    "poker_calc = PokerProbabilityCalculator()\n",
    "correct_count = 0\n",
    "fold_count = 0\n",
    "random_indices = torch.randperm(len(poker_dataset))[:15000]\n",
    "\n",
    "label_count = {action_name: 0 for action_name in ACTION_NAMES}\n",
    "bot_count = {action_name: 0 for action_name in ACTION_NAMES}\n",
    "\n",
    "for i in tqdm(random_indices):\n",
    "    input_tensor, label_action_tensor, label_bet_size_tensor, baseline_inputs = poker_dataset[i]\n",
    "    call_size = baseline_inputs['call_size']\n",
    "    pot_size = baseline_inputs['pot_size']\n",
    "    stack_size = baseline_inputs['stack_size']\n",
    "    min_raise = baseline_inputs['min_raise']\n",
    "    hole_cards = baseline_inputs['hole_cards']\n",
    "    community_cards = baseline_inputs['community_cards']\n",
    "    num_players = baseline_inputs['num_players']\n",
    "    \n",
    "    poker_calc.set(hole_cards, community_cards, num_players, num_simulations = 1000)\n",
    "    win_rate, lose_rate, tie_rate, avg_tied_players = poker_calc.poker_probability_calculator()\n",
    "    \n",
    "    action_name, bet_size = get_bet_size(win_rate, lose_rate, tie_rate, avg_tied_players, pot_size, call_size, stack_size, min_raise, tight_factor=0.2)\n",
    "    \n",
    "    # label_action_tensor is a one hot tensor\n",
    "    label_action_name = ACTION_NAMES[label_action_tensor.argmax().item()]\n",
    "    #print(action_name, bet_size, \"\\t\", label_action_name)\n",
    "    label_count[label_action_name] += 1\n",
    "    bot_count[action_name] += 1\n",
    "\n",
    "print('label_count:', label_count)\n",
    "print('bot_count:', bot_count)\n",
    "    \n",
    "    \n",
    "    "
   ]
  },
  {
   "cell_type": "code",
   "execution_count": null,
   "metadata": {},
   "outputs": [
    {
     "name": "stderr",
     "output_type": "stream",
     "text": [
      "100%|██████████| 5000/5000 [09:12<00:00,  9.05it/s]"
     ]
    },
    {
     "name": "stdout",
     "output_type": "stream",
     "text": [
      "label_count: {'small': 0, 'big': 0, 'calls': 1041, 'caps': 0, 'raises': 971, 'bets': 0, 'folds': 961, 'posts': 0, 'checks': 997, 'straddle': 0, 'allin': 1030}\n",
      "bot_count: {'small': 0, 'big': 0, 'calls': 239, 'caps': 0, 'raises': 0, 'bets': 8, 'folds': 4741, 'posts': 0, 'checks': 0, 'straddle': 0, 'allin': 12}\n"
     ]
    },
    {
     "name": "stderr",
     "output_type": "stream",
     "text": [
      "\n"
     ]
    }
   ],
   "source": [
    "poker_calc = PokerProbabilityCalculator()\n",
    "correct_count = 0\n",
    "fold_count = 0\n",
    "random_indices = torch.randperm(len(poker_dataset))[:5000]\n",
    "\n",
    "label_count = {action_name: 0 for action_name in ACTION_NAMES}\n",
    "bot_count = {action_name: 0 for action_name in ACTION_NAMES}\n",
    "\n",
    "for i in tqdm(random_indices):\n",
    "    input_tensor, label_action_tensor, label_bet_size_tensor, baseline_inputs = poker_dataset[i]\n",
    "    call_size = baseline_inputs['call_size']\n",
    "    pot_size = baseline_inputs['pot_size']\n",
    "    stack_size = baseline_inputs['stack_size']\n",
    "    min_raise = baseline_inputs['min_raise']\n",
    "    hole_cards = baseline_inputs['hole_cards']\n",
    "    community_cards = baseline_inputs['community_cards']\n",
    "    num_players = baseline_inputs['num_players']\n",
    "    \n",
    "    poker_calc.set(hole_cards, community_cards, num_players, num_simulations = 1000)\n",
    "    win_rate, lose_rate, tie_rate, avg_tied_players = poker_calc.poker_probability_calculator()\n",
    "    \n",
    "    action_name, bet_size = get_bet_size(win_rate, lose_rate, tie_rate, avg_tied_players, pot_size, call_size, stack_size, min_raise, tight_factor=0.1)\n",
    "    \n",
    "    # label_action_tensor is a one hot tensor\n",
    "    label_action_name = ACTION_NAMES[label_action_tensor.argmax().item()]\n",
    "    #print(action_name, bet_size, \"\\t\", label_action_name)\n",
    "    label_count[label_action_name] += 1\n",
    "    bot_count[action_name] += 1\n",
    "\n",
    "print('label_count:', label_count)\n",
    "print('bot_count:', bot_count)"
   ]
  },
  {
   "cell_type": "code",
   "execution_count": null,
   "metadata": {},
   "outputs": [
    {
     "name": "stderr",
     "output_type": "stream",
     "text": [
      "100%|██████████| 5000/5000 [09:29<00:00,  8.79it/s]"
     ]
    },
    {
     "name": "stdout",
     "output_type": "stream",
     "text": [
      "label_count: {'small': 0, 'big': 0, 'calls': 960, 'caps': 0, 'raises': 948, 'bets': 0, 'folds': 1002, 'posts': 0, 'checks': 1048, 'straddle': 0, 'allin': 1042}\n",
      "bot_count: {'small': 0, 'big': 0, 'calls': 785, 'caps': 0, 'raises': 0, 'bets': 0, 'folds': 3913, 'posts': 0, 'checks': 0, 'straddle': 0, 'allin': 302}\n",
      "corr_count: 1451\n"
     ]
    },
    {
     "name": "stderr",
     "output_type": "stream",
     "text": [
      "\n"
     ]
    }
   ],
   "source": [
    "poker_calc = PokerProbabilityCalculator()\n",
    "correct_count = 0\n",
    "fold_count = 0\n",
    "random_indices = torch.randperm(len(poker_dataset))[:5000]\n",
    "\n",
    "label_count = {action_name: 0 for action_name in ACTION_NAMES}\n",
    "bot_count = {action_name: 0 for action_name in ACTION_NAMES}\n",
    "\n",
    "corr_count = 0\n",
    "for i in tqdm(random_indices):\n",
    "    input_tensor, label_action_tensor, label_bet_size_tensor, baseline_inputs = poker_dataset[i]\n",
    "    call_size = baseline_inputs['call_size']\n",
    "    pot_size = baseline_inputs['pot_size']\n",
    "    stack_size = baseline_inputs['stack_size']\n",
    "    min_raise = baseline_inputs['min_raise']\n",
    "    hole_cards = baseline_inputs['hole_cards']\n",
    "    community_cards = baseline_inputs['community_cards']\n",
    "    num_players = baseline_inputs['num_players']\n",
    "    \n",
    "    poker_calc.set(hole_cards, community_cards, num_players, num_simulations = 1000)\n",
    "    win_rate, lose_rate, tie_rate, avg_tied_players = poker_calc.poker_probability_calculator()\n",
    "    \n",
    "    action_name, bet_size = get_bet_size(win_rate, lose_rate, tie_rate, avg_tied_players, pot_size, call_size, stack_size, min_raise, tight_factor=0)\n",
    "    \n",
    "    # label_action_tensor is a one hot tensor\n",
    "    label_action_name = ACTION_NAMES[label_action_tensor.argmax().item()]\n",
    "    #print(action_name, bet_size, \"\\t\", label_action_name)\n",
    "    label_count[label_action_name] += 1\n",
    "    bot_count[action_name] += 1\n",
    "    \n",
    "    if action_name == label_action_name:\n",
    "        corr_count += 1\n",
    "\n",
    "print('label_count:', label_count)\n",
    "print('bot_count:', bot_count)\n",
    "print('corr_count:', corr_count)"
   ]
  },
  {
   "cell_type": "code",
   "execution_count": null,
   "metadata": {},
   "outputs": [
    {
     "name": "stderr",
     "output_type": "stream",
     "text": [
      "  3%|▎         | 470/15000 [00:53<27:22,  8.85it/s]\n"
     ]
    },
    {
     "ename": "KeyboardInterrupt",
     "evalue": "",
     "output_type": "error",
     "traceback": [
      "\u001b[1;31m---------------------------------------------------------------------------\u001b[0m",
      "\u001b[1;31mKeyboardInterrupt\u001b[0m                         Traceback (most recent call last)",
      "Cell \u001b[1;32mIn[14], line 20\u001b[0m\n\u001b[0;32m     17\u001b[0m num_players \u001b[38;5;241m=\u001b[39m baseline_inputs[\u001b[38;5;124m'\u001b[39m\u001b[38;5;124mnum_players\u001b[39m\u001b[38;5;124m'\u001b[39m]\n\u001b[0;32m     19\u001b[0m poker_calc\u001b[38;5;241m.\u001b[39mset(hole_cards, community_cards, num_players, num_simulations \u001b[38;5;241m=\u001b[39m \u001b[38;5;241m1000\u001b[39m)\n\u001b[1;32m---> 20\u001b[0m win_rate, lose_rate, tie_rate, avg_tied_players \u001b[38;5;241m=\u001b[39m \u001b[43mpoker_calc\u001b[49m\u001b[38;5;241;43m.\u001b[39;49m\u001b[43mpoker_probability_calculator\u001b[49m\u001b[43m(\u001b[49m\u001b[43m)\u001b[49m\n\u001b[0;32m     22\u001b[0m action_name, bet_size \u001b[38;5;241m=\u001b[39m get_bet_size(win_rate, lose_rate, tie_rate, avg_tied_players, pot_size, call_size, stack_size, min_raise, tight_factor\u001b[38;5;241m=\u001b[39m\u001b[38;5;241m0.05\u001b[39m)\n\u001b[0;32m     24\u001b[0m \u001b[38;5;66;03m# label_action_tensor is a one hot tensor\u001b[39;00m\n",
      "File \u001b[1;32mc:\\Users\\kctak\\Documents\\Code\\PokerAI\\APS360 Project\\Poker-AI\\Poker Decision Model\\poker_simulation.py:203\u001b[0m, in \u001b[0;36mPokerProbabilityCalculator.poker_probability_calculator\u001b[1;34m(self)\u001b[0m\n\u001b[0;32m    200\u001b[0m other_players_cards \u001b[38;5;241m=\u001b[39m \u001b[38;5;28mself\u001b[39m\u001b[38;5;241m.\u001b[39mget_random_cards_from_deck(temp_deck, \u001b[38;5;28mself\u001b[39m\u001b[38;5;241m.\u001b[39mnum_players\u001b[38;5;241m-\u001b[39m\u001b[38;5;241m1\u001b[39m)\n\u001b[0;32m    201\u001b[0m community_cards \u001b[38;5;241m+\u001b[39m\u001b[38;5;241m=\u001b[39m [temp_deck\u001b[38;5;241m.\u001b[39mpop() \u001b[38;5;28;01mfor\u001b[39;00m _ \u001b[38;5;129;01min\u001b[39;00m \u001b[38;5;28mrange\u001b[39m(\u001b[38;5;241m5\u001b[39m\u001b[38;5;241m-\u001b[39m\u001b[38;5;28mlen\u001b[39m(\u001b[38;5;28mself\u001b[39m\u001b[38;5;241m.\u001b[39mcommunity_cards))]\n\u001b[1;32m--> 203\u001b[0m main_player_hand_value \u001b[38;5;241m=\u001b[39m \u001b[43mevaluate_hand\u001b[49m\u001b[43m(\u001b[49m\u001b[38;5;28;43mself\u001b[39;49m\u001b[38;5;241;43m.\u001b[39;49m\u001b[43mhole_cards\u001b[49m\u001b[43m,\u001b[49m\u001b[43m \u001b[49m\u001b[43mcommunity_cards\u001b[49m\u001b[43m)\u001b[49m\n\u001b[0;32m    204\u001b[0m other_players_hand_values \u001b[38;5;241m=\u001b[39m [evaluate_hand(cards, community_cards) \u001b[38;5;28;01mfor\u001b[39;00m cards \u001b[38;5;129;01min\u001b[39;00m other_players_cards]\n\u001b[0;32m    206\u001b[0m \u001b[38;5;28;01mif\u001b[39;00m main_player_hand_value \u001b[38;5;241m>\u001b[39m \u001b[38;5;28mmax\u001b[39m(other_players_hand_values):\n",
      "File \u001b[1;32mc:\\Users\\kctak\\Documents\\Code\\PokerAI\\APS360 Project\\Poker-AI\\Poker Decision Model\\helper.py:35\u001b[0m, in \u001b[0;36mevaluate_hand\u001b[1;34m(hole_cards, community_cards)\u001b[0m\n\u001b[0;32m     33\u001b[0m \u001b[38;5;28;01mdef\u001b[39;00m \u001b[38;5;21mevaluate_hand\u001b[39m(hole_cards, community_cards):\n\u001b[0;32m     34\u001b[0m     list_of_cards \u001b[38;5;241m=\u001b[39m [convert_to_card(card_str) \u001b[38;5;28;01mfor\u001b[39;00m card_str \u001b[38;5;129;01min\u001b[39;00m hole_cards \u001b[38;5;241m+\u001b[39m community_cards]\n\u001b[1;32m---> 35\u001b[0m     hand_val \u001b[38;5;241m=\u001b[39m \u001b[43mHandEvaluation\u001b[49m\u001b[43m(\u001b[49m\u001b[43mlist_of_cards\u001b[49m\u001b[43m)\u001b[49m\n\u001b[0;32m     36\u001b[0m     \u001b[38;5;28;01mreturn\u001b[39;00m hand_val\n",
      "File \u001b[1;32mc:\\Users\\kctak\\Documents\\Code\\PokerAI\\APS360 Project\\Poker-AI\\Poker Decision Model\\poker_hand_evaluation.py:56\u001b[0m, in \u001b[0;36mHandEvaluation\u001b[1;34m(cards)\u001b[0m\n\u001b[0;32m     53\u001b[0m \u001b[38;5;28;01mif\u001b[39;00m \u001b[38;5;28mlen\u001b[39m(cards) \u001b[38;5;241m!=\u001b[39m \u001b[38;5;241m7\u001b[39m:\n\u001b[0;32m     54\u001b[0m     \u001b[38;5;28;01mraise\u001b[39;00m \u001b[38;5;167;01mValueError\u001b[39;00m(\u001b[38;5;124mf\u001b[39m\u001b[38;5;124m'\u001b[39m\u001b[38;5;124mHandEvaluation: Invalid number of cards\u001b[39m\u001b[38;5;130;01m\\n\u001b[39;00m\u001b[38;5;124m Got \u001b[39m\u001b[38;5;132;01m{\u001b[39;00m\u001b[38;5;28mlen\u001b[39m(cards)\u001b[38;5;132;01m}\u001b[39;00m\u001b[38;5;124m instead of 7\u001b[39m\u001b[38;5;124m'\u001b[39m)\n\u001b[1;32m---> 56\u001b[0m sortedCards \u001b[38;5;241m=\u001b[39m \u001b[38;5;28;43msorted\u001b[39;49m\u001b[43m(\u001b[49m\u001b[43mcards\u001b[49m\u001b[43m)\u001b[49m\n\u001b[0;32m     58\u001b[0m rankInfo \u001b[38;5;241m=\u001b[39m {}\n\u001b[0;32m     59\u001b[0m suitInfo \u001b[38;5;241m=\u001b[39m {}\n",
      "File \u001b[1;32mc:\\Users\\kctak\\Documents\\Code\\PokerAI\\APS360 Project\\Poker-AI\\Poker Decision Model\\poker_hand_evaluation.py:26\u001b[0m, in \u001b[0;36mCard.__lt__\u001b[1;34m(self, other)\u001b[0m\n\u001b[0;32m     23\u001b[0m \u001b[38;5;28;01mdef\u001b[39;00m \u001b[38;5;21m__eq__\u001b[39m(\u001b[38;5;28mself\u001b[39m, other):\n\u001b[0;32m     24\u001b[0m     \u001b[38;5;28;01mreturn\u001b[39;00m \u001b[38;5;28mself\u001b[39m\u001b[38;5;241m.\u001b[39mrank \u001b[38;5;241m==\u001b[39m other\u001b[38;5;241m.\u001b[39mrank \u001b[38;5;129;01mand\u001b[39;00m \u001b[38;5;28mself\u001b[39m\u001b[38;5;241m.\u001b[39msuit \u001b[38;5;241m==\u001b[39m other\u001b[38;5;241m.\u001b[39msuit\n\u001b[1;32m---> 26\u001b[0m \u001b[38;5;28;01mdef\u001b[39;00m \u001b[38;5;21m__lt__\u001b[39m(\u001b[38;5;28mself\u001b[39m, other):\n\u001b[0;32m     27\u001b[0m     \u001b[38;5;28;01mreturn\u001b[39;00m \u001b[38;5;28mself\u001b[39m\u001b[38;5;241m.\u001b[39mrank \u001b[38;5;241m<\u001b[39m other\u001b[38;5;241m.\u001b[39mrank\n\u001b[0;32m     28\u001b[0m \u001b[38;5;28;01mdef\u001b[39;00m \u001b[38;5;21m__gt__\u001b[39m(\u001b[38;5;28mself\u001b[39m, other):\n",
      "\u001b[1;31mKeyboardInterrupt\u001b[0m: "
     ]
    }
   ],
   "source": [
    "poker_calc = PokerProbabilityCalculator()\n",
    "correct_count = 0\n",
    "fold_count = 0\n",
    "random_indices = torch.randperm(len(poker_dataset))[:15000]\n",
    "\n",
    "label_count = {action_name: 0 for action_name in ACTION_NAMES}\n",
    "bot_count = {action_name: 0 for action_name in ACTION_NAMES}\n",
    "\n",
    "for i in tqdm(random_indices):\n",
    "    input_tensor, label_action_tensor, label_bet_size_tensor, baseline_inputs = poker_dataset[i]\n",
    "    call_size = baseline_inputs['call_size']\n",
    "    pot_size = baseline_inputs['pot_size']\n",
    "    stack_size = baseline_inputs['stack_size']\n",
    "    min_raise = baseline_inputs['min_raise']\n",
    "    hole_cards = baseline_inputs['hole_cards']\n",
    "    community_cards = baseline_inputs['community_cards']\n",
    "    num_players = baseline_inputs['num_players']\n",
    "    \n",
    "    poker_calc.set(hole_cards, community_cards, num_players, num_simulations = 1000)\n",
    "    win_rate, lose_rate, tie_rate, avg_tied_players = poker_calc.poker_probability_calculator()\n",
    "    \n",
    "    action_name, bet_size = get_bet_size(win_rate, lose_rate, tie_rate, avg_tied_players, pot_size, call_size, stack_size, min_raise, tight_factor=0.05)\n",
    "    \n",
    "    # label_action_tensor is a one hot tensor\n",
    "    label_action_name = ACTION_NAMES[label_action_tensor.argmax().item()]\n",
    "    #print(action_name, bet_size, \"\\t\", label_action_name)\n",
    "    label_count[label_action_name] += 1\n",
    "    bot_count[action_name] += 1\n",
    "\n",
    "print('label_count:', label_count)\n",
    "print('bot_count:', bot_count)"
   ]
  },
  {
   "cell_type": "code",
   "execution_count": null,
   "metadata": {},
   "outputs": [
    {
     "name": "stderr",
     "output_type": "stream",
     "text": [
      "100%|██████████| 195875/195875 [00:01<00:00, 192533.09it/s]"
     ]
    },
    {
     "name": "stdout",
     "output_type": "stream",
     "text": [
      "39175\n",
      "0\n",
      "195875\n"
     ]
    },
    {
     "name": "stderr",
     "output_type": "stream",
     "text": [
      "\n"
     ]
    }
   ],
   "source": [
    "count = 0\n",
    "for i in tqdm(range(len(poker_dataset))):\n",
    "    label_action_name = ACTION_NAMES[poker_dataset[i][1].argmax().item()]\n",
    "    if label_action_name == 'folds':\n",
    "        count += 1\n",
    "        \n",
    "print(count)\n",
    "print(fold_count)\n",
    "print(len(poker_dataset))"
   ]
  }
 ],
 "metadata": {
  "kernelspec": {
   "display_name": "All_Use",
   "language": "python",
   "name": "python3"
  },
  "language_info": {
   "codemirror_mode": {
    "name": "ipython",
    "version": 3
   },
   "file_extension": ".py",
   "mimetype": "text/x-python",
   "name": "python",
   "nbconvert_exporter": "python",
   "pygments_lexer": "ipython3",
   "version": "3.10.6"
  }
 },
 "nbformat": 4,
 "nbformat_minor": 2
}
