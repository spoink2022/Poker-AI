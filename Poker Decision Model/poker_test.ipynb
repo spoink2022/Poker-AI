{
 "cells": [
  {
   "cell_type": "code",
   "execution_count": 14,
   "metadata": {},
   "outputs": [],
   "source": [
    "\n",
    "from poker_dataset import PokerDataset\n",
    "from poker_test import get_models_accuracy\n",
    "from poker_baseline_model import baseline_model\n",
    "from poker_model import CustomFCNetwork\n",
    "from helper import ACTION_NAMES\n",
    "\n",
    "import torch"
   ]
  },
  {
   "cell_type": "code",
   "execution_count": 2,
   "metadata": {},
   "outputs": [
    {
     "name": "stderr",
     "output_type": "stream",
     "text": [
      "Parsing Games: 100%|██████████| 52154/52154 [00:13<00:00, 3837.94it/s]\n",
      "Processing Items: 100%|██████████| 50664/50664 [00:35<00:00, 1440.72it/s]"
     ]
    },
    {
     "name": "stdout",
     "output_type": "stream",
     "text": [
      "{'calls': 39175, 'raises': 39175, 'bets': 0, 'folds': 39175, 'checks': 39175, 'allin': 39175}\n"
     ]
    },
    {
     "name": "stderr",
     "output_type": "stream",
     "text": [
      "\n"
     ]
    }
   ],
   "source": [
    "filepath = r'C:\\Users\\kctak\\Documents\\Code\\PokerAI\\APS360 Progress\\poker_data'\n",
    "poker_dataset = PokerDataset(filepath, \"IlxxxlI\", balance_data=True)\n",
    "print({action_name: len(indices) for action_name, indices in poker_dataset.output_indices.items()})"
   ]
  },
  {
   "cell_type": "code",
   "execution_count": 3,
   "metadata": {},
   "outputs": [],
   "source": [
    "import torch.utils\n",
    "\n",
    "test_frac = 0.15\n",
    "val_frac = 0.15\n",
    "train_frac = 1 - test_frac - val_frac\n",
    "\n",
    "train_dataset, val_dataset, test_dataset = torch.utils.data.random_split(poker_dataset, [train_frac, val_frac, test_frac])"
   ]
  },
  {
   "cell_type": "code",
   "execution_count": 4,
   "metadata": {},
   "outputs": [
    {
     "data": {
      "text/plain": [
       "<All keys matched successfully>"
      ]
     },
     "execution_count": 4,
     "metadata": {},
     "output_type": "execute_result"
    }
   ],
   "source": [
    "# Load trained model \n",
    "hidden_shape = [256, 128]\n",
    "trained_model_path = r'Results2\\poker_model.pth'\n",
    "\n",
    "model = CustomFCNetwork(hidden_shape=hidden_shape)\n",
    "model.load_state_dict(torch.load(trained_model_path))"
   ]
  },
  {
   "cell_type": "code",
   "execution_count": 5,
   "metadata": {},
   "outputs": [
    {
     "name": "stderr",
     "output_type": "stream",
     "text": [
      "                                                                \r"
     ]
    }
   ],
   "source": [
    "model_tracker, baseline_tracker = get_models_accuracy(model, baseline_model, test_dataset)"
   ]
  },
  {
   "cell_type": "code",
   "execution_count": 7,
   "metadata": {},
   "outputs": [
    {
     "name": "stdout",
     "output_type": "stream",
     "text": [
      "Model Correct Count {'calls': {'correct': 5900, 'wrong': 47}, 'raises': {'correct': 5792, 'wrong': 27}, 'folds': {'correct': 5737, 'wrong': 23}, 'checks': {'correct': 5964, 'wrong': 4}, 'allin': {'correct': 5887, 'wrong': 0}}\n",
      "Baseline Correct Count {'calls': {'correct': 1766, 'wrong': 2766}, 'folds': {'correct': 5612, 'wrong': 17352}, 'allin': {'correct': 974, 'wrong': 911}}\n"
     ]
    }
   ],
   "source": [
    "# model_tracker = {action_name: {'correct': [], 'wrong': []} for action_name in ACTION_NAMES}\n",
    "# baseline_tracker = {action_name: {'correct': [], 'wrong': []} for action_name in ACTION_NAMES}\n",
    "\n",
    "model_corr_count = {action_name: {keys: len(values) for keys, values in records.items()} for action_name, records in model_tracker.items() if not all([len(values)==0 for keys, values in records.items()])}\n",
    "baseline_corr_count = {action_name: {keys: len(values) for keys, values in records.items()} for action_name, records in baseline_tracker.items() if not all([len(values)==0 for keys, values in records.items()])}\n",
    "\n",
    "print(\"Model Correct Count\", model_corr_count)\n",
    "print(\"Baseline Correct Count\", baseline_corr_count)"
   ]
  },
  {
   "cell_type": "code",
   "execution_count": 9,
   "metadata": {},
   "outputs": [
    {
     "name": "stdout",
     "output_type": "stream",
     "text": [
      "Model Accuracy 0.9965624042748715\n",
      "Baseline Accuracy 0.2842653415472584\n"
     ]
    }
   ],
   "source": [
    "model_accuracy = sum([records['correct'] for records in model_corr_count.values()]) / sum([records['correct'] + records['wrong'] for records in model_corr_count.values()])\n",
    "baseline_accuracy = sum([records['correct'] for records in baseline_corr_count.values()]) / sum([records['correct'] + records['wrong'] for records in baseline_corr_count.values()])\n",
    "\n",
    "print(\"Model Accuracy\", model_accuracy)\n",
    "print(\"Baseline Accuracy\", baseline_accuracy)"
   ]
  },
  {
   "cell_type": "code",
   "execution_count": 16,
   "metadata": {},
   "outputs": [
    {
     "name": "stdout",
     "output_type": "stream",
     "text": [
      "Model Sample Call Size 3.878053903579712\n",
      "Model Sample Pot Size 24.664764165878296\n",
      "Model Sample Stack Size 4894.966045379639\n",
      "Model Sample Min Raise 22.366286277770996\n",
      "Model Sample Hole Cards [('9d',), ('Qs',)]\n",
      "Model Sample Num Players 6\n",
      "\n",
      "Model Label Action Name calls\n",
      "Model Label Bet Size 0.25\n",
      "\n",
      "Baseline Sample Call Size 3.878053903579712\n",
      "Baseline Sample Pot Size 18.715341329574585\n",
      "Baseline Sample Stack Size 2514.8030415344238\n",
      "Baseline Sample Min Raise 22.366286277770996\n",
      "Baseline Sample Hole Cards [('10c',), ('Js',)]\n",
      "Baseline Sample Num Players 4\n",
      "\n",
      "Baseline Label Action Name calls\n",
      "Baseline Label Bet Size 0.25\n"
     ]
    }
   ],
   "source": [
    "sample_action_name = 'calls'\n",
    "sample_truth = 'correct'\n",
    "\n",
    "model_io_records = model_tracker[sample_action_name][sample_truth]\n",
    "baseline_io_records = baseline_tracker[sample_action_name][sample_truth]\n",
    "\n",
    "# Choose a random int in the results\n",
    "model_io_record = model_io_records[torch.randint(0, len(model_io_records), (1,)).item()]\n",
    "baseline_io_record = baseline_io_records[torch.randint(0, len(baseline_io_records), (1,)).item()]\n",
    "\n",
    "# These variable includes:\n",
    "        # self.input_tensor = input_tensor\n",
    "        # self.model_action_name = model_action_name\n",
    "        # self.model_bet_size = model_bet_size\n",
    "        # self.baseline_action_name = baseline_action_name\n",
    "        # self.baseline_bet_size = baseline_bet_size\n",
    "        # self.action_label = action_label\n",
    "        # self.bet_size_label = bet_size_label\n",
    "        # self.baseline_inputs = baseline_inputs\n",
    "        \n",
    "# Baseline input is easy to view, the rest are just tensors\n",
    "\n",
    "model_inputs = baseline_io_record.baseline_inputs\n",
    "model_label_action_name = baseline_io_record.action_label\n",
    "model_label_bet_size = baseline_io_record.bet_size_label*poker_dataset.bet_std + poker_dataset.bet_mean\n",
    "\n",
    "model_call_size = model_inputs['call_size']*poker_dataset.call_std + poker_dataset.call_mean\n",
    "model_pot_size = model_inputs['pot_size']*poker_dataset.pot_std + poker_dataset.pot_mean\n",
    "model_stack_size = model_inputs['stack_size']*poker_dataset.stack_std + poker_dataset.stack_mean\n",
    "model_min_raise = model_inputs['min_raise']*poker_dataset.min_raise_std + poker_dataset.min_raise_mean\n",
    "model_hole_cards = model_inputs['hole_cards']\n",
    "model_num_players = model_inputs['num_players']\n",
    "\n",
    "baseline_model_inputs = model_io_record.baseline_inputs\n",
    "baseline_label_action_name = model_io_record.action_label\n",
    "baseline_label_bet_size = model_io_record.bet_size_label*poker_dataset.bet_std + poker_dataset.bet_mean\n",
    "\n",
    "baseline_call_size = baseline_model_inputs['call_size']*poker_dataset.call_std + poker_dataset.call_mean \n",
    "baseline_pot_size = baseline_model_inputs['pot_size']*poker_dataset.pot_std + poker_dataset.pot_mean\n",
    "baseline_stack_size = baseline_model_inputs['stack_size']*poker_dataset.stack_std + poker_dataset.stack_mean\n",
    "baseline_min_raise = baseline_model_inputs['min_raise']*poker_dataset.min_raise_std + poker_dataset.min_raise_mean\n",
    "baseline_hole_cards = baseline_model_inputs['hole_cards']\n",
    "baseline_num_players = baseline_model_inputs['num_players']\n",
    "\n",
    "print(\"Model Sample Call Size\", model_call_size.item())\n",
    "print(\"Model Sample Pot Size\", model_pot_size.item())\n",
    "print(\"Model Sample Stack Size\", model_stack_size.item())\n",
    "print(\"Model Sample Min Raise\", model_min_raise.item())\n",
    "print(\"Model Sample Hole Cards\", model_hole_cards)\n",
    "print(\"Model Sample Num Players\", model_num_players.item())\n",
    "\n",
    "print(\"\\nModel Label Action Name\", ACTION_NAMES[model_label_action_name.argmax().item()])\n",
    "print(\"Model Label Bet Size\", model_label_bet_size.item())\n",
    "\n",
    "print(\"\\nBaseline Sample Call Size\", baseline_call_size.item())\n",
    "print(\"Baseline Sample Pot Size\", baseline_pot_size.item())\n",
    "print(\"Baseline Sample Stack Size\", baseline_stack_size.item())\n",
    "print(\"Baseline Sample Min Raise\", baseline_min_raise.item())\n",
    "print(\"Baseline Sample Hole Cards\", baseline_hole_cards)\n",
    "print(\"Baseline Sample Num Players\", baseline_num_players.item())\n",
    "\n",
    "print(\"\\nBaseline Label Action Name\", ACTION_NAMES[baseline_label_action_name.argmax().item()])\n",
    "print(\"Baseline Label Bet Size\", baseline_label_bet_size.item())\n",
    "\n",
    "\n"
   ]
  }
 ],
 "metadata": {
  "kernelspec": {
   "display_name": "Python 3",
   "language": "python",
   "name": "python3"
  },
  "language_info": {
   "codemirror_mode": {
    "name": "ipython",
    "version": 3
   },
   "file_extension": ".py",
   "mimetype": "text/x-python",
   "name": "python",
   "nbconvert_exporter": "python",
   "pygments_lexer": "ipython3",
   "version": "3.10.6"
  }
 },
 "nbformat": 4,
 "nbformat_minor": 2
}
