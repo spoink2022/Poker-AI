{
 "cells": [
  {
   "cell_type": "code",
   "execution_count": 1,
   "metadata": {},
   "outputs": [],
   "source": [
    "from poker_dataset import PokerDataset\n",
    "from poker_test import get_models_accuracy\n",
    "from poker_baseline_model import baseline_model\n",
    "from poker_model import CustomFCNetwork\n",
    "import torch"
   ]
  },
  {
   "cell_type": "code",
   "execution_count": 2,
   "metadata": {},
   "outputs": [
    {
     "name": "stderr",
     "output_type": "stream",
     "text": [
      "Parsing Games: 100%|██████████| 52154/52154 [00:13<00:00, 3837.94it/s]\n",
      "Processing Items: 100%|██████████| 50664/50664 [00:35<00:00, 1440.72it/s]"
     ]
    },
    {
     "name": "stdout",
     "output_type": "stream",
     "text": [
      "{'calls': 39175, 'raises': 39175, 'bets': 0, 'folds': 39175, 'checks': 39175, 'allin': 39175}\n"
     ]
    },
    {
     "name": "stderr",
     "output_type": "stream",
     "text": [
      "\n"
     ]
    }
   ],
   "source": [
    "filepath = r'C:\\Users\\kctak\\Documents\\Code\\PokerAI\\APS360 Progress\\poker_data'\n",
    "poker_dataset = PokerDataset(filepath, \"IlxxxlI\", balance_data=True)\n",
    "print({action_name: len(indices) for action_name, indices in poker_dataset.output_indices.items()})"
   ]
  },
  {
   "cell_type": "code",
   "execution_count": 3,
   "metadata": {},
   "outputs": [],
   "source": [
    "import torch.utils\n",
    "\n",
    "test_frac = 0.15\n",
    "val_frac = 0.15\n",
    "train_frac = 1 - test_frac - val_frac\n",
    "\n",
    "train_dataset, val_dataset, test_dataset = torch.utils.data.random_split(poker_dataset, [train_frac, val_frac, test_frac])"
   ]
  },
  {
   "cell_type": "code",
   "execution_count": 4,
   "metadata": {},
   "outputs": [
    {
     "data": {
      "text/plain": [
       "<All keys matched successfully>"
      ]
     },
     "execution_count": 4,
     "metadata": {},
     "output_type": "execute_result"
    }
   ],
   "source": [
    "# Load trained model \n",
    "hidden_shape = [256, 128]\n",
    "trained_model_path = r'Results2\\poker_model.pth'\n",
    "\n",
    "model = CustomFCNetwork(hidden_shape=hidden_shape)\n",
    "model.load_state_dict(torch.load(trained_model_path))"
   ]
  },
  {
   "cell_type": "code",
   "execution_count": 5,
   "metadata": {},
   "outputs": [
    {
     "name": "stderr",
     "output_type": "stream",
     "text": [
      "                                                                \r"
     ]
    }
   ],
   "source": [
    "model_tracker, baseline_tracker = get_models_accuracy(model, baseline_model, test_dataset)"
   ]
  },
  {
   "cell_type": "code",
   "execution_count": 7,
   "metadata": {},
   "outputs": [
    {
     "name": "stdout",
     "output_type": "stream",
     "text": [
      "Model Correct Count {'calls': {'correct': 5900, 'wrong': 47}, 'raises': {'correct': 5792, 'wrong': 27}, 'folds': {'correct': 5737, 'wrong': 23}, 'checks': {'correct': 5964, 'wrong': 4}, 'allin': {'correct': 5887, 'wrong': 0}}\n",
      "Baseline Correct Count {'calls': {'correct': 1766, 'wrong': 2766}, 'folds': {'correct': 5612, 'wrong': 17352}, 'allin': {'correct': 974, 'wrong': 911}}\n"
     ]
    }
   ],
   "source": [
    "# model_tracker = {action_name: {'correct': [], 'wrong': []} for action_name in ACTION_NAMES}\n",
    "# baseline_tracker = {action_name: {'correct': [], 'wrong': []} for action_name in ACTION_NAMES}\n",
    "\n",
    "model_corr_count = {action_name: {keys: len(values) for keys, values in records.items()} for action_name, records in model_tracker.items() if not all([len(values)==0 for keys, values in records.items()])}\n",
    "baseline_corr_count = {action_name: {keys: len(values) for keys, values in records.items()} for action_name, records in baseline_tracker.items() if not all([len(values)==0 for keys, values in records.items()])}\n",
    "\n",
    "print(\"Model Correct Count\", model_corr_count)\n",
    "print(\"Baseline Correct Count\", baseline_corr_count)"
   ]
  }
 ],
 "metadata": {
  "kernelspec": {
   "display_name": "Python 3",
   "language": "python",
   "name": "python3"
  },
  "language_info": {
   "codemirror_mode": {
    "name": "ipython",
    "version": 3
   },
   "file_extension": ".py",
   "mimetype": "text/x-python",
   "name": "python",
   "nbconvert_exporter": "python",
   "pygments_lexer": "ipython3",
   "version": "3.10.6"
  }
 },
 "nbformat": 4,
 "nbformat_minor": 2
}
